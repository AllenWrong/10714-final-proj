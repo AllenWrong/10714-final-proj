{
  "nbformat": 4,
  "nbformat_minor": 0,
  "metadata": {
    "colab": {
      "provenance": [],
      "toc_visible": true
    },
    "kernelspec": {
      "name": "python3",
      "display_name": "Python 3"
    },
    "language_info": {
      "name": "python"
    },
    "gpuClass": "standard"
  },
  "cells": [
    {
      "cell_type": "code",
      "source": [
        "# Code to set up the assignment\n",
        "from google.colab import drive\n",
        "drive.mount('/content/drive')\n",
        "%cd /content/drive/MyDrive\n",
        "# !git clone https://github.com/AllenWrong/10714-final-proj.git"
      ],
      "metadata": {
        "colab": {
          "base_uri": "https://localhost:8080/"
        },
        "id": "ivRjItDJ4JO_",
        "outputId": "4999457f-d105-49b7-c9dc-fbb749c0709b"
      },
      "execution_count": 1,
      "outputs": [
        {
          "output_type": "stream",
          "name": "stdout",
          "text": [
            "Drive already mounted at /content/drive; to attempt to forcibly remount, call drive.mount(\"/content/drive\", force_remount=True).\n",
            "/content/drive/MyDrive\n"
          ]
        }
      ]
    },
    {
      "cell_type": "code",
      "source": [
        "%cd 10714-final-proj/\n",
        "!pwd"
      ],
      "metadata": {
        "colab": {
          "base_uri": "https://localhost:8080/"
        },
        "id": "EdJh643y24vS",
        "outputId": "ff878f87-723b-4288-f501-3255046e10a6"
      },
      "execution_count": 2,
      "outputs": [
        {
          "output_type": "stream",
          "name": "stdout",
          "text": [
            "/content/drive/MyDrive/10714-final-proj\n",
            "/content/drive/MyDrive/10714-final-proj\n"
          ]
        }
      ]
    },
    {
      "cell_type": "code",
      "source": [
        "!pip install pybind11\n",
        "# !make"
      ],
      "metadata": {
        "colab": {
          "base_uri": "https://localhost:8080/"
        },
        "id": "iENXwsb63JDV",
        "outputId": "964d9765-b220-408a-bb29-ec1ad417f1a4"
      },
      "execution_count": 3,
      "outputs": [
        {
          "output_type": "stream",
          "name": "stdout",
          "text": [
            "Looking in indexes: https://pypi.org/simple, https://us-python.pkg.dev/colab-wheels/public/simple/\n",
            "Requirement already satisfied: pybind11 in /usr/local/lib/python3.8/dist-packages (2.10.2)\n"
          ]
        }
      ]
    },
    {
      "cell_type": "markdown",
      "source": [
        "## Import"
      ],
      "metadata": {
        "id": "fGOOY9ZUMwhG"
      }
    },
    {
      "cell_type": "code",
      "source": [
        "import sys\n",
        "sys.path.append(\"python/\")"
      ],
      "metadata": {
        "id": "EEdFkOao3gwu"
      },
      "execution_count": 4,
      "outputs": []
    },
    {
      "cell_type": "code",
      "source": [
        "import needle as ndl\n",
        "from needle import ops\n",
        "import numpy as np"
      ],
      "metadata": {
        "id": "kcnP4O7f3GcJ"
      },
      "execution_count": 5,
      "outputs": []
    },
    {
      "cell_type": "code",
      "source": [
        "import imp\n",
        "imp.reload(ndl)\n",
        "imp.reload(ndl.backend_ndarray.ndarray)"
      ],
      "metadata": {
        "colab": {
          "base_uri": "https://localhost:8080/"
        },
        "id": "BpDJkWbXudqB",
        "outputId": "d964483b-26b7-4989-9dc9-ee979148ed9d"
      },
      "execution_count": 6,
      "outputs": [
        {
          "output_type": "execute_result",
          "data": {
            "text/plain": [
              "<module 'needle.backend_ndarray.ndarray' from '/content/drive/MyDrive/10714-final-proj/python/needle/backend_ndarray/ndarray.py'>"
            ]
          },
          "metadata": {},
          "execution_count": 6
        }
      ]
    },
    {
      "cell_type": "code",
      "source": [
        "import imp\n",
        "imp.reload(ops)"
      ],
      "metadata": {
        "colab": {
          "base_uri": "https://localhost:8080/"
        },
        "id": "RA7t_D14Adf6",
        "outputId": "e516045a-50c0-48f7-fcb3-2e90d2204ac0"
      },
      "execution_count": 13,
      "outputs": [
        {
          "output_type": "execute_result",
          "data": {
            "text/plain": [
              "<module 'needle.ops' from '/content/drive/MyDrive/10714-final-proj/python/needle/ops.py'>"
            ]
          },
          "metadata": {},
          "execution_count": 13
        }
      ]
    },
    {
      "cell_type": "code",
      "source": [
        "a = ndl.Tensor([\n",
        "    [1, 2, 3, 4],\n",
        "    [2, 3, 4, 5], \n",
        "    [6, 7, 8, 9]\n",
        "])"
      ],
      "metadata": {
        "id": "2CnK9rqm3e_L"
      },
      "execution_count": null,
      "outputs": []
    },
    {
      "cell_type": "code",
      "source": [
        "b = ops.get_item(a, (slice(1, 3, 1), slice(1, 3, 1)))\n",
        "b"
      ],
      "metadata": {
        "colab": {
          "base_uri": "https://localhost:8080/"
        },
        "id": "B6NgKca69Ui4",
        "outputId": "fa9cea6d-71fd-4906-f74b-bff566025acd"
      },
      "execution_count": null,
      "outputs": [
        {
          "output_type": "execute_result",
          "data": {
            "text/plain": [
              "needle.Tensor([[3. 4.]\n",
              " [7. 8.]])"
            ]
          },
          "metadata": {},
          "execution_count": 7
        }
      ]
    },
    {
      "cell_type": "code",
      "source": [
        "c = a[1:3, 1:3]"
      ],
      "metadata": {
        "id": "oMejEcIkASfJ"
      },
      "execution_count": null,
      "outputs": []
    },
    {
      "cell_type": "code",
      "source": [
        "c.sum().backward()"
      ],
      "metadata": {
        "id": "AjOZJ_JpBZmX"
      },
      "execution_count": null,
      "outputs": []
    },
    {
      "cell_type": "code",
      "source": [
        "a.grad"
      ],
      "metadata": {
        "colab": {
          "base_uri": "https://localhost:8080/"
        },
        "id": "E4HhBa1GBcrF",
        "outputId": "af39294b-c67f-4ba3-d0f4-40d4b832d18e"
      },
      "execution_count": null,
      "outputs": [
        {
          "output_type": "execute_result",
          "data": {
            "text/plain": [
              "needle.Tensor([[0. 0. 0. 0.]\n",
              " [0. 1. 1. 0.]\n",
              " [0. 1. 1. 0.]])"
            ]
          },
          "metadata": {},
          "execution_count": 12
        }
      ]
    },
    {
      "cell_type": "code",
      "source": [
        "grad_c = ndl.Tensor([[2, 3]])\n",
        "b.sum().backward()"
      ],
      "metadata": {
        "id": "mkRQWr7Z_FFm"
      },
      "execution_count": null,
      "outputs": []
    },
    {
      "cell_type": "code",
      "source": [
        "a.grad"
      ],
      "metadata": {
        "colab": {
          "base_uri": "https://localhost:8080/"
        },
        "id": "qI2xKg2s_alZ",
        "outputId": "fc003937-03e8-43da-b957-c69ed88947b4"
      },
      "execution_count": null,
      "outputs": [
        {
          "output_type": "execute_result",
          "data": {
            "text/plain": [
              "needle.Tensor([[0. 0. 0. 0.]\n",
              " [0. 1. 1. 0.]\n",
              " [0. 1. 1. 0.]])"
            ]
          },
          "metadata": {},
          "execution_count": 19
        }
      ]
    },
    {
      "cell_type": "markdown",
      "source": [
        "## Implement the op  `__getitem__` for Tensor"
      ],
      "metadata": {
        "id": "R0qpknWv49KL"
      }
    },
    {
      "cell_type": "code",
      "source": [
        "a = np.array([\n",
        "    [1, 2, 3, 4],\n",
        "    [2, 3, 4, 5], \n",
        "    [6, 7, 8, 9]\n",
        "]).astype(\"float32\")"
      ],
      "metadata": {
        "id": "YzWuAwVR3r-m"
      },
      "execution_count": 7,
      "outputs": []
    },
    {
      "cell_type": "markdown",
      "source": [
        "### Torch example"
      ],
      "metadata": {
        "id": "HFYD-aNeBxAO"
      }
    },
    {
      "cell_type": "code",
      "source": [
        "import torch"
      ],
      "metadata": {
        "id": "fYL-q3LPCHAZ"
      },
      "execution_count": 46,
      "outputs": []
    },
    {
      "cell_type": "code",
      "source": [
        "th_tensor = torch.tensor(a, requires_grad=True)\n",
        "b = th_tensor[1:3, 1:3]\n",
        "\n",
        "b.sum().backward()\n",
        "print(th_tensor.grad)"
      ],
      "metadata": {
        "colab": {
          "base_uri": "https://localhost:8080/"
        },
        "id": "yWowoH5dBwGQ",
        "outputId": "f85a70f7-ce36-452d-b444-45de09bedb58"
      },
      "execution_count": 47,
      "outputs": [
        {
          "output_type": "stream",
          "name": "stdout",
          "text": [
            "tensor([[0., 0., 0., 0.],\n",
            "        [0., 1., 1., 0.],\n",
            "        [0., 1., 1., 0.]])\n"
          ]
        }
      ]
    },
    {
      "cell_type": "markdown",
      "source": [
        "### Needle example"
      ],
      "metadata": {
        "id": "rN_QuQnfCsEy"
      }
    },
    {
      "cell_type": "code",
      "source": [
        "import needle as ndl"
      ],
      "metadata": {
        "id": "j2FmbFfgCIzR"
      },
      "execution_count": 48,
      "outputs": []
    },
    {
      "cell_type": "code",
      "source": [
        "nd_tensor = ndl.Tensor(a)\n",
        "b_nd = nd_tensor[1:3, 1:3]\n",
        "\n",
        "b_nd.sum().backward()\n",
        "print(nd_tensor.grad)"
      ],
      "metadata": {
        "colab": {
          "base_uri": "https://localhost:8080/"
        },
        "id": "pMnsgHH05KhD",
        "outputId": "fba25333-0921-4f21-ab94-fc27a20f02c6"
      },
      "execution_count": 49,
      "outputs": [
        {
          "output_type": "stream",
          "name": "stdout",
          "text": [
            "[[0. 0. 0. 0.]\n",
            " [0. 1. 1. 0.]\n",
            " [0. 1. 1. 0.]]\n"
          ]
        }
      ]
    },
    {
      "cell_type": "markdown",
      "source": [
        "## Implement `ndl.cat([...], axis=)`"
      ],
      "metadata": {
        "id": "rK-FCL3g5KpC"
      }
    },
    {
      "cell_type": "code",
      "source": [
        "a = np.array([\n",
        "    [1, 2, 3, 4],\n",
        "    [2, 3, 4, 5], \n",
        "    [6, 7, 8, 9]\n",
        "]).astype(\"float32\")"
      ],
      "metadata": {
        "id": "BAcQoP5LQyk-"
      },
      "execution_count": 8,
      "outputs": []
    },
    {
      "cell_type": "markdown",
      "source": [
        "### Torch example"
      ],
      "metadata": {
        "id": "X2cpL-eRQlS9"
      }
    },
    {
      "cell_type": "code",
      "source": [
        "th1 = torch.tensor(a[:, 0:2], requires_grad=True)\n",
        "th2 = torch.tensor(a[:, 2:], requires_grad=True)\n",
        "\n",
        "print(th1)\n",
        "print(th2)"
      ],
      "metadata": {
        "colab": {
          "base_uri": "https://localhost:8080/"
        },
        "id": "1zv5QFdH5P1b",
        "outputId": "157c2d1b-819c-4fc8-a11a-4afbb5c78763"
      },
      "execution_count": 51,
      "outputs": [
        {
          "output_type": "stream",
          "name": "stdout",
          "text": [
            "tensor([[1., 2.],\n",
            "        [2., 3.],\n",
            "        [6., 7.]], requires_grad=True)\n",
            "tensor([[3., 4.],\n",
            "        [4., 5.],\n",
            "        [8., 9.]], requires_grad=True)\n"
          ]
        }
      ]
    },
    {
      "cell_type": "code",
      "source": [
        "# forward\n",
        "th12 = torch.cat([th1, th2], axis=1)\n",
        "th12"
      ],
      "metadata": {
        "colab": {
          "base_uri": "https://localhost:8080/"
        },
        "id": "6a-1Vpix6jYq",
        "outputId": "578c023b-171c-4785-ad97-7cf91bc18322"
      },
      "execution_count": 52,
      "outputs": [
        {
          "output_type": "execute_result",
          "data": {
            "text/plain": [
              "tensor([[1., 2., 3., 4.],\n",
              "        [2., 3., 4., 5.],\n",
              "        [6., 7., 8., 9.]], grad_fn=<CatBackward0>)"
            ]
          },
          "metadata": {},
          "execution_count": 52
        }
      ]
    },
    {
      "cell_type": "code",
      "source": [
        "# backward\n",
        "th12.sum().backward()\n",
        "print(th1.grad)\n",
        "print(th2.grad)"
      ],
      "metadata": {
        "colab": {
          "base_uri": "https://localhost:8080/"
        },
        "id": "szM3__EbQ4Uw",
        "outputId": "e8fcbc57-71b9-4af1-a5f6-befce7adbe68"
      },
      "execution_count": 53,
      "outputs": [
        {
          "output_type": "stream",
          "name": "stdout",
          "text": [
            "tensor([[1., 1.],\n",
            "        [1., 1.],\n",
            "        [1., 1.]])\n",
            "tensor([[1., 1.],\n",
            "        [1., 1.],\n",
            "        [1., 1.]])\n"
          ]
        }
      ]
    },
    {
      "cell_type": "markdown",
      "source": [
        "### Needle example"
      ],
      "metadata": {
        "id": "24wHj-LZRBDv"
      }
    },
    {
      "cell_type": "code",
      "source": [
        "nd1 = ndl.Tensor(a[:, 0:2])\n",
        "nd2 = ndl.Tensor(a[:, 2:])\n",
        "\n",
        "print(nd1)\n",
        "print(nd2)"
      ],
      "metadata": {
        "colab": {
          "base_uri": "https://localhost:8080/"
        },
        "id": "YycLOrM6Q4Xr",
        "outputId": "7f21b196-2c5c-4958-9739-3723de65fc87"
      },
      "execution_count": 9,
      "outputs": [
        {
          "output_type": "stream",
          "name": "stdout",
          "text": [
            "[[1. 2.]\n",
            " [2. 3.]\n",
            " [6. 7.]]\n",
            "[[3. 4.]\n",
            " [4. 5.]\n",
            " [8. 9.]]\n"
          ]
        }
      ]
    },
    {
      "cell_type": "code",
      "source": [
        "# forward\n",
        "nd12 = ops.cat([nd1, nd2], axis=1)\n",
        "nd12"
      ],
      "metadata": {
        "colab": {
          "base_uri": "https://localhost:8080/"
        },
        "id": "kGU6SBQURIBQ",
        "outputId": "c3e1bb09-3b7e-41b1-834a-0389fc66180b"
      },
      "execution_count": 12,
      "outputs": [
        {
          "output_type": "execute_result",
          "data": {
            "text/plain": [
              "needle.Tensor([[1. 2. 3. 4.]\n",
              " [2. 3. 4. 5.]\n",
              " [6. 7. 8. 9.]])"
            ]
          },
          "metadata": {},
          "execution_count": 12
        }
      ]
    },
    {
      "cell_type": "code",
      "source": [
        "# backward\n",
        "nd12.sum().backward()\n",
        "print(nd1.grad)\n",
        "print(nd2.grad)"
      ],
      "metadata": {
        "colab": {
          "base_uri": "https://localhost:8080/"
        },
        "id": "tgV_eKc1RIES",
        "outputId": "7412fb9c-e463-4ae4-e4f1-cd253b61c1ca"
      },
      "execution_count": 13,
      "outputs": [
        {
          "output_type": "stream",
          "name": "stdout",
          "text": [
            "[[1. 1.]\n",
            " [1. 1.]\n",
            " [1. 1.]]\n",
            "[[1. 1.]\n",
            " [1. 1.]\n",
            " [1. 1.]]\n"
          ]
        }
      ]
    },
    {
      "cell_type": "markdown",
      "source": [
        "## Implement `inv`\n",
        "\n",
        "Following is the formula about how we get the gradient of inv op"
      ],
      "metadata": {
        "id": "n5Sb9psA9iGk"
      }
    },
    {
      "cell_type": "markdown",
      "source": [
        "In matrix calculus, we have the following formulas.\n",
        "\n",
        "$$\n",
        "dXY = d(X)Y + XdY \\\\\n",
        "XX^{-1} = I \\\\\n",
        "dI = \\mathbf{0}\n",
        "$$\n",
        "\n",
        "Using the above three formulas, we can get the calculus between $X^{-1}$ and $X$:\n",
        "\n",
        "$$\n",
        "d(X)X^{-1}+XdX^{-1} = \\mathbf{0} \\\\\n",
        "dX = -XdX^{-1}X \\\\\n",
        "dX^{-1} = -X^{-1}d(X)X^{-1}\n",
        "$$\n",
        "\n",
        "The relationship between the calculus and derivation is (f: $R^{m\\times n} → R$ is scalar function):\n",
        "\n",
        "$$\n",
        "df = tr((\\frac{\\partial f}{\\partial X})^TdX)\n",
        "$$\n",
        "\n",
        "For the same scalar function, we can get the follow formula:\n",
        "\n",
        "$$\n",
        "df = tr((\\frac{\\partial f}{\\partial X})^TdX) \\\\\n",
        "df = tr((\\frac{\\partial f}{\\partial X^{-1}})^TdX^{-1})\n",
        "$$\n",
        "\n",
        "Replace the $dX^{-1}$ using $-X^{-1}d(X)X^{-1}$, we can get:\n",
        "\n",
        "$$\n",
        "tr((\\frac{\\partial f}{\\partial X})^T dX) =\n",
        "tr((\\frac{\\partial f}{\\partial X^{-1}})^T (-X^{-1})d(X)X^{-1})\n",
        "$$\n",
        "\n",
        "There exists a formula for trace: $tr(AB)=tr(BA)$. Using this formula, we can rewrite the above formula:\n",
        "\n",
        "$$\n",
        "tr((\\frac{\\partial f}{\\partial X})^T dX) =\n",
        "tr(X^{-1}(\\frac{\\partial f}{\\partial X^{-1}})^T (-X^{-1})d(X))\n",
        "$$\n",
        "\n",
        "Which means:\n",
        "\n",
        "$$\n",
        "\\frac{\\partial f}{\\partial X} = (X^{-1}(\\frac{\\partial f}{\\partial X^{-1}})^T (-X^{-1}))^T\n",
        "$$\n",
        "\n",
        "Following this formula, we will implement our gradient method for **inv**."
      ],
      "metadata": {
        "id": "DyZSSHVR9l_E"
      }
    },
    {
      "cell_type": "markdown",
      "source": [
        "**Using row operation, we implement the inv. Following is a demo program using numpy.**"
      ],
      "metadata": {
        "id": "sZRi0rroBPXa"
      }
    },
    {
      "cell_type": "code",
      "source": [
        "import numpy as np\n",
        "\n",
        "x = np.array([\n",
        "    [3., 2., 3.],\n",
        "    [2., 3., 4.],\n",
        "    [6., 7., 8.]\n",
        "])\n",
        "\n",
        "class linalg:\n",
        "    @staticmethod\n",
        "    def inv(x):\n",
        "        aug = np.concatenate([x, np.eye(x.shape[0])], axis=1)\n",
        "        row, col = x.shape\n",
        "\n",
        "        for i in range(row):\n",
        "            aug[i, :] = aug[i, :] / aug[i, i]\n",
        "            for j in range(i + 1, row):\n",
        "                aug[j, :] = aug[j, :] - aug[j, i] * aug[i, :]\n",
        "\n",
        "        for i in range(row - 1, 0, -1):\n",
        "            for j in range(i - 1, -1, -1):\n",
        "                aug[j, :] -= aug[j, i] * aug[i, :]\n",
        "\n",
        "        return aug[:, col:]\n",
        "\n",
        "\n",
        "import time\n",
        "# test inv\n",
        "for _ in range(100):\n",
        "    arr = np.eye(100) + np.random.rand(100, 100)\n",
        "    start_time = time.time()\n",
        "    B = np.linalg.inv(arr)\n",
        "    print(\"np.inv:\", (time.time() - start_time) / 1000)\n",
        "    start_time = time.time()\n",
        "    arr_inv = linalg.inv(arr)\n",
        "    print(\"nd.inv:\", (time.time() - start_time) / 1000)\n",
        "    assert np.allclose(B, arr_inv)"
      ],
      "metadata": {
        "id": "BUo7yuvEBO0O"
      },
      "execution_count": null,
      "outputs": []
    },
    {
      "cell_type": "markdown",
      "source": [
        "### Torch example"
      ],
      "metadata": {
        "id": "nQCEUiJTCwT7"
      }
    },
    {
      "cell_type": "code",
      "source": [
        "import torch"
      ],
      "metadata": {
        "id": "BT2aAWOQ1Yj3"
      },
      "execution_count": 6,
      "outputs": []
    },
    {
      "cell_type": "code",
      "source": [
        "# example array\n",
        "x = np.array([\n",
        "    [3., 2., 3.],\n",
        "    [2., 3., 4.],\n",
        "    [6., 7., 8.]\n",
        "])"
      ],
      "metadata": {
        "id": "EHI8HC8V9ln4"
      },
      "execution_count": 7,
      "outputs": []
    },
    {
      "cell_type": "code",
      "source": [
        "a_tensor = torch.tensor(x, requires_grad=True)\n",
        "print(a_tensor.grad)"
      ],
      "metadata": {
        "colab": {
          "base_uri": "https://localhost:8080/"
        },
        "id": "xfu2p4UlDOxt",
        "outputId": "fb7e18bc-cf1a-45d1-d6f0-ade8c882bf34"
      },
      "execution_count": 8,
      "outputs": [
        {
          "output_type": "stream",
          "name": "stdout",
          "text": [
            "None\n"
          ]
        }
      ]
    },
    {
      "cell_type": "code",
      "source": [
        "b = torch.inverse(a_tensor)\n",
        "b.retain_grad()\n",
        "print(b)"
      ],
      "metadata": {
        "colab": {
          "base_uri": "https://localhost:8080/"
        },
        "id": "4W5pdAGoDRyt",
        "outputId": "2fc94065-e1b1-4e1e-9520-e89a0016fc0e"
      },
      "execution_count": 9,
      "outputs": [
        {
          "output_type": "stream",
          "name": "stdout",
          "text": [
            "tensor([[ 0.5000, -0.6250,  0.1250],\n",
            "        [-1.0000, -0.7500,  0.7500],\n",
            "        [ 0.5000,  1.1250, -0.6250]], dtype=torch.float64,\n",
            "       grad_fn=<LinalgInvExBackward0>)\n"
          ]
        }
      ]
    },
    {
      "cell_type": "code",
      "source": [
        "b.sum().backward()\n",
        "th_grad = a_tensor.grad\n",
        "print(a_tensor.grad)\n",
        "print(b.grad)"
      ],
      "metadata": {
        "colab": {
          "base_uri": "https://localhost:8080/"
        },
        "id": "Yhg4j8BNDUQI",
        "outputId": "917f7fae-7396-494a-a592-d9c75fd6b556"
      },
      "execution_count": 10,
      "outputs": [
        {
          "output_type": "stream",
          "name": "stdout",
          "text": [
            "tensor([[-1.8489e-32, -1.1102e-16,  1.1102e-16],\n",
            "        [-2.0817e-17, -2.5000e-01,  2.5000e-01],\n",
            "        [ 2.0817e-17,  2.5000e-01, -2.5000e-01]], dtype=torch.float64)\n",
            "tensor([[1., 1., 1.],\n",
            "        [1., 1., 1.],\n",
            "        [1., 1., 1.]], dtype=torch.float64)\n"
          ]
        }
      ]
    },
    {
      "cell_type": "code",
      "source": [
        "print((-b @ b.grad @ b).T)"
      ],
      "metadata": {
        "colab": {
          "base_uri": "https://localhost:8080/"
        },
        "id": "Hotx-3H_DYNj",
        "outputId": "04f7c5f2-a18e-4048-a7a5-c85ed73a46b2"
      },
      "execution_count": 11,
      "outputs": [
        {
          "output_type": "stream",
          "name": "stdout",
          "text": [
            "tensor([[-1.8489e-32, -1.1102e-16,  1.1102e-16],\n",
            "        [-2.0817e-17, -2.5000e-01,  2.5000e-01],\n",
            "        [ 2.0817e-17,  2.5000e-01, -2.5000e-01]], dtype=torch.float64,\n",
            "       grad_fn=<PermuteBackward0>)\n"
          ]
        }
      ]
    },
    {
      "cell_type": "markdown",
      "source": [
        "### Needle example"
      ],
      "metadata": {
        "id": "6fGHPpPzEA9O"
      }
    },
    {
      "cell_type": "code",
      "source": [
        "nd_a = ndl.Tensor(x)\n",
        "\n",
        "inv_a = ops.inv(nd_a)"
      ],
      "metadata": {
        "id": "AoVOm5vDEDuZ"
      },
      "execution_count": 12,
      "outputs": []
    },
    {
      "cell_type": "code",
      "source": [
        "print(inv_a)"
      ],
      "metadata": {
        "colab": {
          "base_uri": "https://localhost:8080/"
        },
        "id": "q5VxFefP1wLO",
        "outputId": "cb9e1317-1a9a-4f1f-b4f6-abfe9a8f16b4"
      },
      "execution_count": 13,
      "outputs": [
        {
          "output_type": "execute_result",
          "data": {
            "text/plain": [
              "needle.Tensor([[ 0.5000001  -0.625       0.12499997]\n",
              " [-1.         -0.75        0.74999994]\n",
              " [ 0.49999994  1.125      -0.62499994]])"
            ]
          },
          "metadata": {},
          "execution_count": 13
        }
      ]
    },
    {
      "cell_type": "code",
      "source": [
        "inv_a.sum().backward()\n",
        "print(inv_a.grad)"
      ],
      "metadata": {
        "colab": {
          "base_uri": "https://localhost:8080/"
        },
        "id": "PEM1gEYIG4Vv",
        "outputId": "45918257-4b45-428b-d2fc-9f94a2447271"
      },
      "execution_count": 14,
      "outputs": [
        {
          "output_type": "stream",
          "name": "stdout",
          "text": [
            "[[1. 1. 1.]\n",
            " [1. 1. 1.]\n",
            " [1. 1. 1.]]\n"
          ]
        }
      ]
    },
    {
      "cell_type": "code",
      "source": [
        "print(\"nd:\\n\", nd_a.grad)\n",
        "print(\"th:\\n\", th_grad)"
      ],
      "metadata": {
        "colab": {
          "base_uri": "https://localhost:8080/"
        },
        "id": "HHZy-_2AG9Ar",
        "outputId": "6c1969a8-f950-48b9-dabf-6131ff6430df"
      },
      "execution_count": 17,
      "outputs": [
        {
          "output_type": "stream",
          "name": "stdout",
          "text": [
            "nd:\n",
            " [[-5.3290705e-15  5.9604645e-08 -5.9604645e-08]\n",
            " [ 2.2351742e-08 -2.5000000e-01  2.5000000e-01]\n",
            " [-2.2351740e-08  2.4999994e-01 -2.4999994e-01]]\n",
            "th:\n",
            " tensor([[-1.8489e-32, -1.1102e-16,  1.1102e-16],\n",
            "        [-2.0817e-17, -2.5000e-01,  2.5000e-01],\n",
            "        [ 2.0817e-17,  2.5000e-01, -2.5000e-01]], dtype=torch.float64)\n"
          ]
        }
      ]
    },
    {
      "cell_type": "code",
      "source": [
        "a = np.random.rand(10, 10) + np.eye(10)"
      ],
      "metadata": {
        "id": "nYAi0LzwHbQz"
      },
      "execution_count": 18,
      "outputs": []
    },
    {
      "cell_type": "code",
      "source": [
        "torch.set_printoptions(precision=6)"
      ],
      "metadata": {
        "id": "IODv5rpeIENv"
      },
      "execution_count": 24,
      "outputs": []
    },
    {
      "cell_type": "code",
      "source": [
        "th_tensor = torch.tensor(a, requires_grad=True)\n",
        "th_inv = torch.inverse(th_tensor)\n",
        "th_inv.sum().backward()\n",
        "print(th_tensor.grad)"
      ],
      "metadata": {
        "colab": {
          "base_uri": "https://localhost:8080/"
        },
        "id": "9-36IUJ_HiaY",
        "outputId": "9b97069a-1f8f-4004-fa6c-c5957b3068cc"
      },
      "execution_count": 25,
      "outputs": [
        {
          "output_type": "stream",
          "name": "stdout",
          "text": [
            "tensor([[-0.279087,  0.024167, -0.123001, -0.042911,  0.045321, -0.111772,\n",
            "         -0.025394, -0.022768, -0.033002, -0.073750],\n",
            "        [-0.218708,  0.018938, -0.096390, -0.033627,  0.035516, -0.087590,\n",
            "         -0.019900, -0.017842, -0.025862, -0.057795],\n",
            "        [-0.051874,  0.004492, -0.022862, -0.007976,  0.008424, -0.020775,\n",
            "         -0.004720, -0.004232, -0.006134, -0.013708],\n",
            "        [-0.278418,  0.024109, -0.122707, -0.042808,  0.045212, -0.111504,\n",
            "         -0.025333, -0.022713, -0.032923, -0.073574],\n",
            "        [-0.284610,  0.024645, -0.125435, -0.043760,  0.046218, -0.113984,\n",
            "         -0.025896, -0.023218, -0.033655, -0.075210],\n",
            "        [-0.399524,  0.034596, -0.176081, -0.061428,  0.064879, -0.160006,\n",
            "         -0.036352, -0.032593, -0.047244, -0.105577],\n",
            "        [ 0.068034, -0.005891,  0.029985,  0.010461, -0.011048,  0.027247,\n",
            "          0.006190,  0.005550,  0.008045,  0.017978],\n",
            "        [ 0.393118, -0.034041,  0.173258,  0.060443, -0.063838,  0.157440,\n",
            "          0.035769,  0.032070,  0.046486,  0.103884],\n",
            "        [-0.069541,  0.006022, -0.030649, -0.010692,  0.011293, -0.027851,\n",
            "         -0.006328, -0.005673, -0.008223, -0.018377],\n",
            "        [-0.249229,  0.021581, -0.109842, -0.038320,  0.040472, -0.099814,\n",
            "         -0.022677, -0.020332, -0.029471, -0.065860]], dtype=torch.float64)\n"
          ]
        }
      ]
    },
    {
      "cell_type": "code",
      "source": [
        "nd_tensor = ndl.Tensor(a)\n",
        "nd_inv = ndl.inv(nd_tensor)\n",
        "nd_inv.sum().backward()\n",
        "print(nd_tensor.grad)"
      ],
      "metadata": {
        "colab": {
          "base_uri": "https://localhost:8080/"
        },
        "id": "91S9xYDoHwc3",
        "outputId": "68a36567-30a4-4088-f215-aa714bf6d121"
      },
      "execution_count": 22,
      "outputs": [
        {
          "output_type": "stream",
          "name": "stdout",
          "text": [
            "[[-0.2790872   0.02416668 -0.12300128 -0.04291064  0.04532084 -0.1117717\n",
            "  -0.02539386 -0.02276762 -0.03300214 -0.07375051]\n",
            " [-0.21870756  0.01893832 -0.09639043 -0.0336271   0.03551585 -0.08759034\n",
            "  -0.01990001 -0.01784194 -0.02586227 -0.05779489]\n",
            " [-0.05187404  0.00449185 -0.02286229 -0.00797581  0.00842378 -0.02077505\n",
            "  -0.00471995 -0.00423184 -0.00613412 -0.01370803]\n",
            " [-0.27841833  0.02410874 -0.12270655 -0.04280782  0.04521225 -0.11150396\n",
            "  -0.02533302 -0.0227131  -0.03292308 -0.07357381]\n",
            " [-0.28460988  0.02464499 -0.12543544 -0.04375984  0.04621769 -0.11398362\n",
            "  -0.0258964  -0.02321814 -0.03365524 -0.07520997]\n",
            " [-0.39952424  0.03459566 -0.17608133 -0.06142833  0.06487858 -0.16000573\n",
            "  -0.03635236 -0.03259271 -0.0472439  -0.10557681]\n",
            " [ 0.06803431 -0.00589129  0.02998462  0.01046054 -0.01104807  0.02724708\n",
            "   0.0061904   0.00555013  0.00804508  0.01797849]\n",
            " [ 0.39311755 -0.03404105  0.17325786  0.06044335 -0.06383821  0.15743995\n",
            "   0.03576946  0.03207     0.04648632  0.10388381]\n",
            " [-0.06954126  0.00602195 -0.03064892 -0.0106923   0.01129279 -0.02785063\n",
            "  -0.00632756 -0.00567299 -0.00822328 -0.01837673]\n",
            " [-0.24922906  0.02158141 -0.10984219 -0.03831993  0.04047222 -0.09981392\n",
            "  -0.02267716 -0.02033175 -0.02947143 -0.06586035]]\n"
          ]
        }
      ]
    },
    {
      "cell_type": "code",
      "source": [],
      "metadata": {
        "id": "ZLLsEPKaHumG"
      },
      "execution_count": null,
      "outputs": []
    },
    {
      "cell_type": "markdown",
      "source": [
        "## Tries"
      ],
      "metadata": {
        "id": "D03X-8UX6jqX"
      }
    },
    {
      "cell_type": "code",
      "source": [
        "def concatenate(its: tuple, axis):\n",
        "    # compute out shape\n",
        "    it_shape = its[0].shape\n",
        "    out_shape = list(it_shape)\n",
        "    out_shape[axis] = 0\n",
        "\n",
        "    for tensor in its:\n",
        "        # check shape\n",
        "        for i in range(len(tensor.shape)):\n",
        "            if i == axis:\n",
        "                out_shape[axis] += tensor.shape[i]\n",
        "            else:\n",
        "                assert tensor.shape[i] == it_shape[i], \\\n",
        "                f\"shape on axis {i} must be eq, except shape on axis {axis}!\"\n",
        "\n",
        "    # create a empty array and set value\n",
        "    ret_arr = empty(out_shape)\n",
        "    raw_idxs = []\n",
        "    for i in range(len(out_shape) - 1):\n",
        "        # build indexes\n",
        "        raw_idxs.append(slice(0, out_shape[i], 1))\n",
        "\n",
        "    start_idx = 0\n",
        "    for tensor in its:\n",
        "        idxs = raw_idxs.copy()\n",
        "        idxs.insert(axis, slice(start_idx, start_idx + tensor.shape[axis], 1))\n",
        "        ret_arr[tuple(idxs)] = tensor\n",
        "        start_idx += tensor.shape[axis]\n",
        "    \n",
        "    # return\n",
        "    return ret_arr\n",
        "\n",
        "\n",
        "def _upper_trangle(a):\n",
        "    x = array(a.numpy())\n",
        "    for i in range(x.shape[1]):\n",
        "        scale = x[i, i]\n",
        "        for j in range(i+1, x.shape[0]):\n",
        "            x[j, :] = x[j, :] - (x[j, i] / scale).broadcast_to(x[i, :].shape) * x[i, :]\n",
        "\n",
        "    return x\n",
        "\n",
        "\n",
        "def det(x):\n",
        "    x = _upper_trangle(x)\n",
        "    prod = 1\n",
        "    for i in range(x.shape[0]):\n",
        "        prod *= x[i, i]\n",
        "    return prod\n",
        "\n",
        "\n",
        "def _adj(x):\n",
        "    adj_x = full(x.shape, 0.0)\n",
        "\n",
        "    for i in range(x.shape[0]):\n",
        "        for j in range(x.shape[1]):\n",
        "            if i == 0 and j == 0:\n",
        "                sub_block = [i+1:, j+1:]\n",
        "\n",
        "            sub_block = x[:i, :j]\n",
        "            if j + 1 < adj_x.shape[1]:\n",
        "                sub_block = np.concatenate([sub_block, x[:i, j + 1:]], axis=1)\n",
        "                if i + 1 < adj_x.shape[0]:\n",
        "                    sub_block_temp = np.concatenate([x[i + 1:, :j], x[i + 1:, j + 1:]], axis=1)\n",
        "                    sub_block = np.concatenate([sub_block, sub_block_temp], axis=0)\n",
        "            else:\n",
        "                if i + 1 < len(adj_x):\n",
        "                    sub_block = np.concatenate([sub_block, x[i + 1:, :j]], axis=0)\n",
        "\n",
        "            adj_x[j, i] = (-1) ** (i + 1 + j + 1) * det(sub_block)\n",
        "\n",
        "    return adj_x\n",
        "\n",
        "\n",
        "def inv(x):\n",
        "    adj_x = _adj(x)\n",
        "    return adj_x / det(x).broadcast_to(adj_x.shape)"
      ],
      "metadata": {
        "id": "nQUECoiUaEnC"
      },
      "execution_count": 19,
      "outputs": []
    },
    {
      "cell_type": "code",
      "source": [
        "np.linalg.inv(x)"
      ],
      "metadata": {
        "colab": {
          "base_uri": "https://localhost:8080/"
        },
        "id": "HCyvmFqRrgJx",
        "outputId": "9a7483b6-cc37-41e0-8165-720642a99a5c"
      },
      "execution_count": 21,
      "outputs": [
        {
          "output_type": "execute_result",
          "data": {
            "text/plain": [
              "array([[ 0.5  , -0.625,  0.125],\n",
              "       [-1.   , -0.75 ,  0.75 ],\n",
              "       [ 0.5  ,  1.125, -0.625]])"
            ]
          },
          "metadata": {},
          "execution_count": 21
        }
      ]
    }
  ]
}