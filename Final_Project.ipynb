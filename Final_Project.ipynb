{
  "nbformat": 4,
  "nbformat_minor": 0,
  "metadata": {
    "colab": {
      "provenance": [],
      "toc_visible": true,
      "collapsed_sections": [
        "k78TNSuxOpEv"
      ]
    },
    "kernelspec": {
      "name": "python3",
      "display_name": "Python 3"
    },
    "language_info": {
      "name": "python"
    },
    "gpuClass": "standard"
  },
  "cells": [
    {
      "cell_type": "code",
      "source": [
        "# Code to set up the assignment\n",
        "from google.colab import drive\n",
        "drive.mount('/content/drive')\n",
        "%cd /content/drive/MyDrive\n",
        "!git clone https://github.com/AllenWrong/10714-final-proj.git"
      ],
      "metadata": {
        "colab": {
          "base_uri": "https://localhost:8080/"
        },
        "id": "ivRjItDJ4JO_",
        "outputId": "16ef6b38-d506-4b4a-a325-b21ea30800f5"
      },
      "execution_count": null,
      "outputs": [
        {
          "output_type": "stream",
          "name": "stdout",
          "text": [
            "Drive already mounted at /content/drive; to attempt to forcibly remount, call drive.mount(\"/content/drive\", force_remount=True).\n",
            "/content/drive/MyDrive\n"
          ]
        }
      ]
    },
    {
      "cell_type": "code",
      "source": [
        "%cd 10714-final-proj/\n",
        "!pwd"
      ],
      "metadata": {
        "colab": {
          "base_uri": "https://localhost:8080/"
        },
        "id": "EdJh643y24vS",
        "outputId": "e0b38ea8-6ff0-4170-cb82-6889daf1e46b"
      },
      "execution_count": null,
      "outputs": [
        {
          "output_type": "stream",
          "name": "stdout",
          "text": [
            "/content/drive/MyDrive/10714-final-proj\n",
            "/content/drive/MyDrive/10714-final-proj\n"
          ]
        }
      ]
    },
    {
      "cell_type": "code",
      "source": [
        "!pip install pybind11\n",
        "!make"
      ],
      "metadata": {
        "colab": {
          "base_uri": "https://localhost:8080/"
        },
        "id": "iENXwsb63JDV",
        "outputId": "330b00c7-9f66-4810-aa16-fecc597c822b"
      },
      "execution_count": null,
      "outputs": [
        {
          "output_type": "stream",
          "name": "stdout",
          "text": [
            "Looking in indexes: https://pypi.org/simple, https://us-python.pkg.dev/colab-wheels/public/simple/\n",
            "Collecting pybind11\n",
            "  Downloading pybind11-2.10.2-py3-none-any.whl (222 kB)\n",
            "\u001b[K     |████████████████████████████████| 222 kB 4.8 MB/s \n",
            "\u001b[?25hInstalling collected packages: pybind11\n",
            "Successfully installed pybind11-2.10.2\n"
          ]
        }
      ]
    },
    {
      "cell_type": "markdown",
      "source": [
        "## Import"
      ],
      "metadata": {
        "id": "fGOOY9ZUMwhG"
      }
    },
    {
      "cell_type": "code",
      "source": [
        "import sys\n",
        "sys.path.append(\"python/\")"
      ],
      "metadata": {
        "id": "EEdFkOao3gwu"
      },
      "execution_count": null,
      "outputs": []
    },
    {
      "cell_type": "code",
      "source": [
        "import needle as ndl\n",
        "from needle import ops\n",
        "import numpy as np"
      ],
      "metadata": {
        "id": "kcnP4O7f3GcJ"
      },
      "execution_count": null,
      "outputs": []
    },
    {
      "cell_type": "markdown",
      "source": [
        "## Implement the op  `__getitem__` for Tensor"
      ],
      "metadata": {
        "id": "R0qpknWv49KL"
      }
    },
    {
      "cell_type": "code",
      "source": [
        "a = np.array([\n",
        "    [1, 2, 3, 4], \n",
        "    [2, 3, 4, 5], \n",
        "    [6, 7, 8, 9]\n",
        "]).astype(\"float32\")"
      ],
      "metadata": {
        "id": "YzWuAwVR3r-m"
      },
      "execution_count": null,
      "outputs": []
    },
    {
      "cell_type": "markdown",
      "source": [
        "### Torch example"
      ],
      "metadata": {
        "id": "HFYD-aNeBxAO"
      }
    },
    {
      "cell_type": "code",
      "source": [
        "import torch"
      ],
      "metadata": {
        "id": "fYL-q3LPCHAZ"
      },
      "execution_count": null,
      "outputs": []
    },
    {
      "cell_type": "code",
      "source": [
        "th_tensor = torch.tensor(a, requires_grad=True)\n",
        "b = th_tensor[1:3, 1:3]\n",
        "\n",
        "b.sum().backward()\n",
        "print(th_tensor.grad)"
      ],
      "metadata": {
        "colab": {
          "base_uri": "https://localhost:8080/"
        },
        "id": "yWowoH5dBwGQ",
        "outputId": "cf05d1a1-a10a-4f14-9091-e66d2cfb58fe"
      },
      "execution_count": null,
      "outputs": [
        {
          "output_type": "stream",
          "name": "stdout",
          "text": [
            "tensor([[0., 0., 0., 0.],\n",
            "        [0., 1., 1., 0.],\n",
            "        [0., 1., 1., 0.]])\n"
          ]
        }
      ]
    },
    {
      "cell_type": "markdown",
      "source": [
        "### Needle example"
      ],
      "metadata": {
        "id": "rN_QuQnfCsEy"
      }
    },
    {
      "cell_type": "code",
      "source": [
        "import needle as ndl"
      ],
      "metadata": {
        "id": "j2FmbFfgCIzR"
      },
      "execution_count": null,
      "outputs": []
    },
    {
      "cell_type": "code",
      "source": [
        "nd_tensor = ndl.Tensor(a)\n",
        "b_nd = nd_tensor[1:3, 1:3]\n",
        "\n",
        "b_nd.sum().backward()\n",
        "print(nd_tensor.grad)"
      ],
      "metadata": {
        "colab": {
          "base_uri": "https://localhost:8080/"
        },
        "id": "pMnsgHH05KhD",
        "outputId": "05d1460f-4674-434f-aea5-0f200d773a38"
      },
      "execution_count": null,
      "outputs": [
        {
          "output_type": "stream",
          "name": "stdout",
          "text": [
            "[[0. 0. 0. 0.]\n",
            " [0. 1. 1. 0.]\n",
            " [0. 1. 1. 0.]]\n"
          ]
        }
      ]
    },
    {
      "cell_type": "markdown",
      "source": [
        "## Implement `ndl.cat([...], axis=)`"
      ],
      "metadata": {
        "id": "rK-FCL3g5KpC"
      }
    },
    {
      "cell_type": "code",
      "source": [
        "a = np.array([\n",
        "    [1, 2, 3, 4],\n",
        "    [2, 3, 4, 5], \n",
        "    [6, 7, 8, 9]\n",
        "]).astype(\"float32\")"
      ],
      "metadata": {
        "id": "BAcQoP5LQyk-"
      },
      "execution_count": null,
      "outputs": []
    },
    {
      "cell_type": "markdown",
      "source": [
        "### Torch example"
      ],
      "metadata": {
        "id": "X2cpL-eRQlS9"
      }
    },
    {
      "cell_type": "code",
      "source": [
        "th1 = torch.tensor(a[:, 0:2], requires_grad=True)\n",
        "th2 = torch.tensor(a[:, 2:], requires_grad=True)\n",
        "\n",
        "print(th1)\n",
        "print(th2)"
      ],
      "metadata": {
        "colab": {
          "base_uri": "https://localhost:8080/"
        },
        "id": "1zv5QFdH5P1b",
        "outputId": "e7d56395-6188-4b58-c740-51c67d0027d2"
      },
      "execution_count": null,
      "outputs": [
        {
          "output_type": "stream",
          "name": "stdout",
          "text": [
            "tensor([[1., 2.],\n",
            "        [2., 3.],\n",
            "        [6., 7.]], requires_grad=True)\n",
            "tensor([[3., 4.],\n",
            "        [4., 5.],\n",
            "        [8., 9.]], requires_grad=True)\n"
          ]
        }
      ]
    },
    {
      "cell_type": "code",
      "source": [
        "# forward\n",
        "th12 = torch.cat([th1, th2], axis=1)\n",
        "th12"
      ],
      "metadata": {
        "colab": {
          "base_uri": "https://localhost:8080/"
        },
        "id": "6a-1Vpix6jYq",
        "outputId": "0cab590c-ace4-4b23-fc3a-5b6abf4a0aba"
      },
      "execution_count": null,
      "outputs": [
        {
          "output_type": "execute_result",
          "data": {
            "text/plain": [
              "tensor([[1., 2., 3., 4.],\n",
              "        [2., 3., 4., 5.],\n",
              "        [6., 7., 8., 9.]], grad_fn=<CatBackward0>)"
            ]
          },
          "metadata": {},
          "execution_count": 13
        }
      ]
    },
    {
      "cell_type": "code",
      "source": [
        "# backward\n",
        "th12.sum().backward()\n",
        "print(th1.grad)\n",
        "print(th2.grad)"
      ],
      "metadata": {
        "colab": {
          "base_uri": "https://localhost:8080/"
        },
        "id": "szM3__EbQ4Uw",
        "outputId": "9e2df2cc-5a8f-4e04-c798-98d17654048b"
      },
      "execution_count": null,
      "outputs": [
        {
          "output_type": "stream",
          "name": "stdout",
          "text": [
            "tensor([[1., 1.],\n",
            "        [1., 1.],\n",
            "        [1., 1.]])\n",
            "tensor([[1., 1.],\n",
            "        [1., 1.],\n",
            "        [1., 1.]])\n"
          ]
        }
      ]
    },
    {
      "cell_type": "markdown",
      "source": [
        "### Needle example"
      ],
      "metadata": {
        "id": "24wHj-LZRBDv"
      }
    },
    {
      "cell_type": "code",
      "source": [
        "nd1 = ndl.Tensor(a[:, 0:2])\n",
        "nd2 = ndl.Tensor(a[:, 2:])\n",
        "\n",
        "print(nd1)\n",
        "print(nd2)"
      ],
      "metadata": {
        "colab": {
          "base_uri": "https://localhost:8080/"
        },
        "id": "YycLOrM6Q4Xr",
        "outputId": "005864bb-48dc-4b97-8241-17728e501e88"
      },
      "execution_count": null,
      "outputs": [
        {
          "output_type": "stream",
          "name": "stdout",
          "text": [
            "[[1. 2.]\n",
            " [2. 3.]\n",
            " [6. 7.]]\n",
            "[[3. 4.]\n",
            " [4. 5.]\n",
            " [8. 9.]]\n"
          ]
        }
      ]
    },
    {
      "cell_type": "code",
      "source": [
        "# forward\n",
        "nd12 = ops.cat([nd1, nd2], axis=1)\n",
        "nd12"
      ],
      "metadata": {
        "colab": {
          "base_uri": "https://localhost:8080/"
        },
        "id": "kGU6SBQURIBQ",
        "outputId": "1634c9cc-c137-4345-9963-9bbca4a5f5ed"
      },
      "execution_count": null,
      "outputs": [
        {
          "output_type": "execute_result",
          "data": {
            "text/plain": [
              "needle.Tensor([[1. 2. 3. 4.]\n",
              " [2. 3. 4. 5.]\n",
              " [6. 7. 8. 9.]])"
            ]
          },
          "metadata": {},
          "execution_count": 16
        }
      ]
    },
    {
      "cell_type": "code",
      "source": [
        "# backward\n",
        "nd12.sum().backward()\n",
        "print(nd1.grad)\n",
        "print(nd2.grad)"
      ],
      "metadata": {
        "colab": {
          "base_uri": "https://localhost:8080/"
        },
        "id": "tgV_eKc1RIES",
        "outputId": "5ed2492f-73c4-4583-8989-8d62aeef0412"
      },
      "execution_count": null,
      "outputs": [
        {
          "output_type": "stream",
          "name": "stdout",
          "text": [
            "[[1. 1.]\n",
            " [1. 1.]\n",
            " [1. 1.]]\n",
            "[[1. 1.]\n",
            " [1. 1.]\n",
            " [1. 1.]]\n"
          ]
        }
      ]
    },
    {
      "cell_type": "markdown",
      "source": [
        "## Implement `inv`\n",
        "\n",
        "Following is the formula about how we get the gradient of inv op"
      ],
      "metadata": {
        "id": "n5Sb9psA9iGk"
      }
    },
    {
      "cell_type": "markdown",
      "source": [
        "In matrix calculus, we have the following formulas.\n",
        "\n",
        "$$\n",
        "dXY = d(X)Y + XdY \\\\\n",
        "XX^{-1} = I \\\\\n",
        "dI = \\mathbf{0}\n",
        "$$\n",
        "\n",
        "Using the above three formulas, we can get the calculus between $X^{-1}$ and $X$:\n",
        "\n",
        "$$\n",
        "d(X)X^{-1}+XdX^{-1} = \\mathbf{0} \\\\\n",
        "dX = -XdX^{-1}X \\\\\n",
        "dX^{-1} = -X^{-1}d(X)X^{-1}\n",
        "$$\n",
        "\n",
        "The relationship between the calculus and derivation is (f: $R^{m\\times n} → R$ is scalar function):\n",
        "\n",
        "$$\n",
        "df = tr((\\frac{\\partial f}{\\partial X})^TdX)\n",
        "$$\n",
        "\n",
        "For the same scalar function, we can get the follow formula:\n",
        "\n",
        "$$\n",
        "df = tr((\\frac{\\partial f}{\\partial X})^TdX) \\\\\n",
        "df = tr((\\frac{\\partial f}{\\partial X^{-1}})^TdX^{-1})\n",
        "$$\n",
        "\n",
        "Replace the $dX^{-1}$ using $-X^{-1}d(X)X^{-1}$, we can get:\n",
        "\n",
        "$$\n",
        "tr((\\frac{\\partial f}{\\partial X})^T dX) =\n",
        "tr((\\frac{\\partial f}{\\partial X^{-1}})^T (-X^{-1})d(X)X^{-1})\n",
        "$$\n",
        "\n",
        "There exists a formula for trace: $tr(AB)=tr(BA)$. Using this formula, we can rewrite the above formula:\n",
        "\n",
        "$$\n",
        "tr((\\frac{\\partial f}{\\partial X})^T dX) =\n",
        "tr(X^{-1}(\\frac{\\partial f}{\\partial X^{-1}})^T (-X^{-1})d(X))\n",
        "$$\n",
        "\n",
        "Which means:\n",
        "\n",
        "$$\n",
        "\\frac{\\partial f}{\\partial X} = (X^{-1}(\\frac{\\partial f}{\\partial X^{-1}})^T (-X^{-1}))^T\n",
        "$$\n",
        "\n",
        "Following this formula, we will implement our gradient method for **inv**."
      ],
      "metadata": {
        "id": "DyZSSHVR9l_E"
      }
    },
    {
      "cell_type": "markdown",
      "source": [
        "**Using row operation, we implement the inv. Following is a demo program using numpy.**"
      ],
      "metadata": {
        "id": "sZRi0rroBPXa"
      }
    },
    {
      "cell_type": "code",
      "source": [
        "import numpy as np\n",
        "\n",
        "x = np.array([\n",
        "    [3., 2., 3.],\n",
        "    [2., 3., 4.],\n",
        "    [6., 7., 8.]\n",
        "])\n",
        "\n",
        "class linalg:\n",
        "    @staticmethod\n",
        "    def inv(x):\n",
        "        aug = np.concatenate([x, np.eye(x.shape[0])], axis=1)\n",
        "        row, col = x.shape\n",
        "\n",
        "        for i in range(row):\n",
        "            aug[i, :] = aug[i, :] / aug[i, i]\n",
        "            for j in range(i + 1, row):\n",
        "                aug[j, :] = aug[j, :] - aug[j, i] * aug[i, :]\n",
        "\n",
        "        for i in range(row - 1, 0, -1):\n",
        "            for j in range(i - 1, -1, -1):\n",
        "                aug[j, :] -= aug[j, i] * aug[i, :]\n",
        "\n",
        "        return aug[:, col:]\n",
        "\n",
        "\n",
        "import time\n",
        "# test inv\n",
        "for _ in range(100):\n",
        "    arr = np.eye(100) + np.random.rand(100, 100)\n",
        "    start_time = time.time()\n",
        "    B = np.linalg.inv(arr)\n",
        "    print(\"np.inv:\", (time.time() - start_time) / 1000)\n",
        "    start_time = time.time()\n",
        "    arr_inv = linalg.inv(arr)\n",
        "    print(\"nd.inv:\", (time.time() - start_time) / 1000)\n",
        "    assert np.allclose(B, arr_inv)"
      ],
      "metadata": {
        "id": "BUo7yuvEBO0O",
        "colab": {
          "base_uri": "https://localhost:8080/"
        },
        "outputId": "68c8e9c0-cb07-4c1d-a6b7-0021fb31d84b"
      },
      "execution_count": null,
      "outputs": [
        {
          "output_type": "stream",
          "name": "stdout",
          "text": [
            "np.inv: 7.816791534423828e-06\n",
            "nd.inv: 7.545280456542968e-05\n",
            "np.inv: 6.12020492553711e-07\n",
            "nd.inv: 7.393813133239747e-05\n",
            "np.inv: 5.559921264648437e-07\n",
            "nd.inv: 7.050967216491699e-05\n",
            "np.inv: 5.221366882324219e-07\n",
            "nd.inv: 6.85122013092041e-05\n",
            "np.inv: 8.411407470703125e-07\n",
            "nd.inv: 7.318472862243652e-05\n",
            "np.inv: 6.911754608154297e-07\n",
            "nd.inv: 7.442283630371093e-05\n",
            "np.inv: 6.337165832519531e-07\n",
            "nd.inv: 6.9929838180542e-05\n",
            "np.inv: 5.166530609130859e-07\n",
            "nd.inv: 6.85129165649414e-05\n",
            "np.inv: 5.178451538085938e-07\n",
            "nd.inv: 7.515358924865722e-05\n",
            "np.inv: 5.242824554443359e-07\n",
            "nd.inv: 7.227182388305664e-05\n",
            "np.inv: 5.438327789306641e-07\n",
            "nd.inv: 7.105636596679687e-05\n",
            "np.inv: 5.218982696533203e-07\n",
            "nd.inv: 7.250499725341797e-05\n",
            "np.inv: 5.428791046142578e-07\n",
            "nd.inv: 7.27541446685791e-05\n",
            "np.inv: 5.18798828125e-07\n",
            "nd.inv: 0.00012793922424316406\n",
            "np.inv: 1.5947818756103516e-06\n",
            "nd.inv: 0.0001005094051361084\n",
            "np.inv: 5.273818969726563e-07\n",
            "nd.inv: 7.960987091064453e-05\n",
            "np.inv: 6.487369537353516e-07\n",
            "nd.inv: 8.341431617736817e-05\n",
            "np.inv: 5.295276641845703e-07\n",
            "nd.inv: 7.442760467529297e-05\n",
            "np.inv: 4.677057266235352e-06\n",
            "nd.inv: 6.866192817687988e-05\n",
            "np.inv: 5.435943603515625e-07\n",
            "nd.inv: 7.071852684020996e-05\n",
            "np.inv: 5.035400390625e-07\n",
            "nd.inv: 6.849050521850586e-05\n",
            "np.inv: 5.352497100830078e-07\n",
            "nd.inv: 7.117962837219238e-05\n",
            "np.inv: 5.261898040771484e-07\n",
            "nd.inv: 7.122540473937988e-05\n",
            "np.inv: 5.22613525390625e-07\n",
            "nd.inv: 6.989097595214844e-05\n",
            "np.inv: 5.142688751220703e-07\n",
            "nd.inv: 6.911563873291016e-05\n",
            "np.inv: 5.033016204833985e-07\n",
            "nd.inv: 8.28258991241455e-05\n",
            "np.inv: 5.164146423339844e-07\n",
            "nd.inv: 6.861639022827148e-05\n",
            "np.inv: 6.039142608642578e-07\n",
            "nd.inv: 7.363080978393554e-05\n",
            "np.inv: 5.385875701904297e-07\n",
            "nd.inv: 8.017086982727051e-05\n",
            "np.inv: 5.104541778564453e-07\n",
            "nd.inv: 7.156300544738769e-05\n",
            "np.inv: 5.352497100830078e-07\n",
            "nd.inv: 6.928634643554688e-05\n",
            "np.inv: 5.116462707519531e-07\n",
            "nd.inv: 7.213115692138672e-05\n",
            "np.inv: 5.328655242919922e-07\n",
            "nd.inv: 6.827282905578614e-05\n",
            "np.inv: 5.373954772949219e-07\n",
            "nd.inv: 6.97026252746582e-05\n",
            "np.inv: 5.505084991455079e-07\n",
            "nd.inv: 7.061958312988281e-05\n",
            "np.inv: 5.297660827636719e-07\n",
            "nd.inv: 7.54547119140625e-05\n",
            "np.inv: 5.350112915039063e-07\n",
            "nd.inv: 6.8817138671875e-05\n",
            "np.inv: 5.197525024414063e-07\n",
            "nd.inv: 7.267475128173828e-05\n",
            "np.inv: 1.329183578491211e-06\n",
            "nd.inv: 6.935739517211914e-05\n",
            "np.inv: 5.221366882324219e-07\n",
            "nd.inv: 7.81102180480957e-05\n",
            "np.inv: 5.128383636474609e-07\n",
            "nd.inv: 7.217931747436524e-05\n",
            "np.inv: 5.154609680175781e-07\n",
            "nd.inv: 6.856822967529297e-05\n",
            "np.inv: 5.273818969726563e-07\n",
            "nd.inv: 7.004642486572265e-05\n",
            "np.inv: 5.204677581787109e-07\n",
            "nd.inv: 8.316922187805176e-05\n",
            "np.inv: 5.385875701904297e-07\n",
            "nd.inv: 7.030677795410156e-05\n",
            "np.inv: 5.321502685546875e-07\n",
            "nd.inv: 6.852340698242188e-05\n",
            "np.inv: 5.404949188232422e-07\n",
            "nd.inv: 7.306933403015137e-05\n",
            "np.inv: 5.211830139160156e-07\n",
            "nd.inv: 7.016515731811523e-05\n",
            "np.inv: 5.471706390380859e-07\n",
            "nd.inv: 6.822395324707031e-05\n",
            "np.inv: 5.331039428710938e-07\n",
            "nd.inv: 7.299613952636719e-05\n",
            "np.inv: 5.319118499755859e-07\n",
            "nd.inv: 6.940007209777832e-05\n",
            "np.inv: 5.311965942382813e-07\n",
            "nd.inv: 7.400131225585938e-05\n",
            "np.inv: 5.300045013427734e-07\n",
            "nd.inv: 8.654499053955078e-05\n",
            "np.inv: 5.068778991699218e-07\n",
            "nd.inv: 6.951427459716797e-05\n",
            "np.inv: 6.136894226074218e-07\n",
            "nd.inv: 6.833863258361816e-05\n",
            "np.inv: 4.9591064453125e-07\n",
            "nd.inv: 7.504487037658692e-05\n",
            "np.inv: 5.290508270263672e-07\n",
            "nd.inv: 7.473945617675782e-05\n",
            "np.inv: 5.178451538085938e-07\n",
            "nd.inv: 7.117557525634765e-05\n",
            "np.inv: 5.362033843994141e-07\n",
            "nd.inv: 7.319235801696777e-05\n",
            "np.inv: 5.183219909667969e-07\n",
            "nd.inv: 6.914591789245606e-05\n",
            "np.inv: 5.147457122802734e-07\n",
            "nd.inv: 6.821846961975098e-05\n",
            "np.inv: 5.123615264892578e-07\n",
            "nd.inv: 7.264423370361328e-05\n",
            "np.inv: 5.502700805664062e-07\n",
            "nd.inv: 6.855034828186036e-05\n",
            "np.inv: 5.164146423339844e-07\n",
            "nd.inv: 6.880879402160645e-05\n",
            "np.inv: 5.271434783935547e-07\n",
            "nd.inv: 7.34848976135254e-05\n",
            "np.inv: 5.056858062744141e-07\n",
            "nd.inv: 6.884026527404786e-05\n",
            "np.inv: 5.125999450683594e-07\n",
            "nd.inv: 7.12590217590332e-05\n",
            "np.inv: 5.426406860351562e-07\n",
            "nd.inv: 9.34913158416748e-05\n",
            "np.inv: 5.121231079101563e-07\n",
            "nd.inv: 6.87272548675537e-05\n",
            "np.inv: 5.147457122802734e-07\n",
            "nd.inv: 7.369685173034669e-05\n",
            "np.inv: 5.190372467041016e-07\n",
            "nd.inv: 7.6080322265625e-05\n",
            "np.inv: 5.092620849609375e-07\n",
            "nd.inv: 6.838107109069824e-05\n",
            "np.inv: 5.180835723876953e-07\n",
            "nd.inv: 7.054471969604493e-05\n",
            "np.inv: 5.276203155517578e-07\n",
            "nd.inv: 7.3012113571167e-05\n",
            "np.inv: 5.238056182861328e-07\n",
            "nd.inv: 8.075523376464843e-05\n",
            "np.inv: 5.447864532470703e-07\n",
            "nd.inv: 7.187128067016601e-05\n",
            "np.inv: 5.316734313964844e-07\n",
            "nd.inv: 7.463455200195313e-05\n",
            "np.inv: 3.050565719604492e-06\n",
            "nd.inv: 0.0001009821891784668\n",
            "np.inv: 5.240440368652344e-07\n",
            "nd.inv: 0.00011968588829040528\n",
            "np.inv: 4.6133995056152345e-07\n",
            "nd.inv: 0.00010286831855773926\n",
            "np.inv: 5.290508270263672e-07\n",
            "nd.inv: 0.00011139535903930664\n",
            "np.inv: 2.467155456542969e-06\n",
            "nd.inv: 8.921623229980468e-05\n",
            "np.inv: 5.14984130859375e-07\n",
            "nd.inv: 8.046936988830566e-05\n",
            "np.inv: 5.488395690917969e-07\n",
            "nd.inv: 0.00010855007171630859\n",
            "np.inv: 5.421638488769531e-07\n",
            "nd.inv: 0.00011760520935058594\n",
            "np.inv: 1.081228256225586e-06\n",
            "nd.inv: 8.498477935791016e-05\n",
            "np.inv: 5.323886871337891e-07\n",
            "nd.inv: 6.76116943359375e-05\n",
            "np.inv: 5.106925964355469e-07\n",
            "nd.inv: 7.746171951293946e-05\n",
            "np.inv: 6.155967712402343e-07\n",
            "nd.inv: 7.172703742980958e-05\n",
            "np.inv: 5.18798828125e-07\n",
            "nd.inv: 7.14573860168457e-05\n",
            "np.inv: 2.9718875885009765e-06\n",
            "nd.inv: 6.899809837341309e-05\n",
            "np.inv: 5.409717559814453e-07\n",
            "nd.inv: 7.268381118774414e-05\n",
            "np.inv: 5.023479461669922e-07\n",
            "nd.inv: 7.42936134338379e-05\n",
            "np.inv: 5.307197570800781e-07\n",
            "nd.inv: 6.911635398864746e-05\n",
            "np.inv: 5.087852478027344e-07\n",
            "nd.inv: 7.178044319152832e-05\n",
            "np.inv: 4.999637603759766e-07\n",
            "nd.inv: 6.959247589111328e-05\n",
            "np.inv: 5.555152893066406e-07\n",
            "nd.inv: 6.860995292663575e-05\n",
            "np.inv: 5.214214324951171e-07\n",
            "nd.inv: 7.098889350891114e-05\n",
            "np.inv: 5.066394805908203e-07\n",
            "nd.inv: 6.937742233276367e-05\n",
            "np.inv: 5.247592926025391e-07\n",
            "nd.inv: 7.201981544494628e-05\n"
          ]
        }
      ]
    },
    {
      "cell_type": "markdown",
      "source": [
        "### Torch example"
      ],
      "metadata": {
        "id": "nQCEUiJTCwT7"
      }
    },
    {
      "cell_type": "code",
      "source": [
        "import torch"
      ],
      "metadata": {
        "id": "BT2aAWOQ1Yj3"
      },
      "execution_count": null,
      "outputs": []
    },
    {
      "cell_type": "code",
      "source": [
        "# example array\n",
        "x = np.array([\n",
        "    [3., 2., 3.],\n",
        "    [2., 3., 4.],\n",
        "    [6., 7., 8.]\n",
        "])"
      ],
      "metadata": {
        "id": "EHI8HC8V9ln4"
      },
      "execution_count": null,
      "outputs": []
    },
    {
      "cell_type": "code",
      "source": [
        "a_tensor = torch.tensor(x, requires_grad=True)\n",
        "print(a_tensor.grad)"
      ],
      "metadata": {
        "colab": {
          "base_uri": "https://localhost:8080/"
        },
        "id": "xfu2p4UlDOxt",
        "outputId": "b5bcb192-4fc4-40ab-f3b6-5d50e5f9abca"
      },
      "execution_count": null,
      "outputs": [
        {
          "output_type": "stream",
          "name": "stdout",
          "text": [
            "None\n"
          ]
        }
      ]
    },
    {
      "cell_type": "code",
      "source": [
        "b = torch.inverse(a_tensor)\n",
        "b.retain_grad()\n",
        "print(b)"
      ],
      "metadata": {
        "colab": {
          "base_uri": "https://localhost:8080/"
        },
        "id": "4W5pdAGoDRyt",
        "outputId": "bbd5545b-6cf0-4b20-bfc2-e2e8938e0b4b"
      },
      "execution_count": null,
      "outputs": [
        {
          "output_type": "stream",
          "name": "stdout",
          "text": [
            "tensor([[ 0.5000, -0.6250,  0.1250],\n",
            "        [-1.0000, -0.7500,  0.7500],\n",
            "        [ 0.5000,  1.1250, -0.6250]], dtype=torch.float64,\n",
            "       grad_fn=<LinalgInvExBackward0>)\n"
          ]
        }
      ]
    },
    {
      "cell_type": "code",
      "source": [
        "b.sum().backward()\n",
        "th_grad = a_tensor.grad\n",
        "print(a_tensor.grad)\n",
        "print(b.grad)"
      ],
      "metadata": {
        "colab": {
          "base_uri": "https://localhost:8080/"
        },
        "id": "Yhg4j8BNDUQI",
        "outputId": "ef67d8c5-b26b-4af8-da09-9d2d4202dfbc"
      },
      "execution_count": null,
      "outputs": [
        {
          "output_type": "stream",
          "name": "stdout",
          "text": [
            "tensor([[-1.8489e-32, -1.1102e-16,  1.1102e-16],\n",
            "        [-2.0817e-17, -2.5000e-01,  2.5000e-01],\n",
            "        [ 2.0817e-17,  2.5000e-01, -2.5000e-01]], dtype=torch.float64)\n",
            "tensor([[1., 1., 1.],\n",
            "        [1., 1., 1.],\n",
            "        [1., 1., 1.]], dtype=torch.float64)\n"
          ]
        }
      ]
    },
    {
      "cell_type": "code",
      "source": [
        "print((-b @ b.grad @ b).T)"
      ],
      "metadata": {
        "colab": {
          "base_uri": "https://localhost:8080/"
        },
        "id": "Hotx-3H_DYNj",
        "outputId": "7fb6c392-3deb-496a-a971-feb48d459eb6"
      },
      "execution_count": null,
      "outputs": [
        {
          "output_type": "stream",
          "name": "stdout",
          "text": [
            "tensor([[-1.8489e-32, -1.1102e-16,  1.1102e-16],\n",
            "        [-2.0817e-17, -2.5000e-01,  2.5000e-01],\n",
            "        [ 2.0817e-17,  2.5000e-01, -2.5000e-01]], dtype=torch.float64,\n",
            "       grad_fn=<PermuteBackward0>)\n"
          ]
        }
      ]
    },
    {
      "cell_type": "markdown",
      "source": [
        "### Needle example"
      ],
      "metadata": {
        "id": "6fGHPpPzEA9O"
      }
    },
    {
      "cell_type": "code",
      "source": [
        "nd_a = ndl.Tensor(x)\n",
        "\n",
        "inv_a = ndl.inv(nd_a)"
      ],
      "metadata": {
        "id": "AoVOm5vDEDuZ"
      },
      "execution_count": null,
      "outputs": []
    },
    {
      "cell_type": "code",
      "source": [
        "print(inv_a)"
      ],
      "metadata": {
        "colab": {
          "base_uri": "https://localhost:8080/"
        },
        "id": "q5VxFefP1wLO",
        "outputId": "bef69c1d-6fe1-485c-bdc1-ea97ea2dbec9"
      },
      "execution_count": null,
      "outputs": [
        {
          "output_type": "stream",
          "name": "stdout",
          "text": [
            "[[ 0.5000001  -0.625       0.12499997]\n",
            " [-1.         -0.75        0.74999994]\n",
            " [ 0.49999994  1.125      -0.62499994]]\n"
          ]
        }
      ]
    },
    {
      "cell_type": "code",
      "source": [
        "inv_a.sum().backward()\n",
        "print(inv_a.grad)"
      ],
      "metadata": {
        "colab": {
          "base_uri": "https://localhost:8080/"
        },
        "id": "PEM1gEYIG4Vv",
        "outputId": "911b31b7-4f29-433c-9ba7-843b28a46505"
      },
      "execution_count": null,
      "outputs": [
        {
          "output_type": "stream",
          "name": "stdout",
          "text": [
            "[[1. 1. 1.]\n",
            " [1. 1. 1.]\n",
            " [1. 1. 1.]]\n"
          ]
        }
      ]
    },
    {
      "cell_type": "code",
      "source": [
        "print(\"nd:\\n\", nd_a.grad)\n",
        "print(\"th:\\n\", th_grad)"
      ],
      "metadata": {
        "colab": {
          "base_uri": "https://localhost:8080/"
        },
        "id": "HHZy-_2AG9Ar",
        "outputId": "a8fcb343-556d-46d0-b8b3-23eb307d68be"
      },
      "execution_count": null,
      "outputs": [
        {
          "output_type": "stream",
          "name": "stdout",
          "text": [
            "nd:\n",
            " [[-5.3290705e-15  5.9604645e-08 -5.9604645e-08]\n",
            " [ 2.2351742e-08 -2.5000000e-01  2.5000000e-01]\n",
            " [-2.2351740e-08  2.4999994e-01 -2.4999994e-01]]\n",
            "th:\n",
            " tensor([[-1.8489e-32, -1.1102e-16,  1.1102e-16],\n",
            "        [-2.0817e-17, -2.5000e-01,  2.5000e-01],\n",
            "        [ 2.0817e-17,  2.5000e-01, -2.5000e-01]], dtype=torch.float64)\n"
          ]
        }
      ]
    },
    {
      "cell_type": "code",
      "source": [
        "a = np.random.rand(10, 10) + np.eye(10)"
      ],
      "metadata": {
        "id": "nYAi0LzwHbQz"
      },
      "execution_count": null,
      "outputs": []
    },
    {
      "cell_type": "code",
      "source": [
        "torch.set_printoptions(precision=8)"
      ],
      "metadata": {
        "id": "IODv5rpeIENv"
      },
      "execution_count": null,
      "outputs": []
    },
    {
      "cell_type": "code",
      "source": [
        "th_tensor = torch.tensor(a, requires_grad=True)\n",
        "th_inv = torch.inverse(th_tensor)\n",
        "th_inv.sum().backward()\n",
        "print(th_tensor.grad)"
      ],
      "metadata": {
        "colab": {
          "base_uri": "https://localhost:8080/"
        },
        "id": "9-36IUJ_HiaY",
        "outputId": "35d87940-c308-417d-8ccf-8f9c9e7b5f39"
      },
      "execution_count": null,
      "outputs": [
        {
          "output_type": "stream",
          "name": "stdout",
          "text": [
            "tensor([[-0.03958470, -0.07398275, -0.09110454, -0.02081114, -0.06773881,\n",
            "         -0.04064466, -0.02585923, -0.03307357, -0.07176186, -0.03819216],\n",
            "        [-0.03970795, -0.07421309, -0.09138819, -0.02087594, -0.06794971,\n",
            "         -0.04077120, -0.02593974, -0.03317655, -0.07198529, -0.03831107],\n",
            "        [-0.01288292, -0.02407784, -0.02965016, -0.00677303, -0.02204574,\n",
            "         -0.01322789, -0.00841594, -0.01076386, -0.02335505, -0.01242972],\n",
            "        [ 0.01443862,  0.02698540,  0.03323061,  0.00759092,  0.02470790,\n",
            "          0.01482524,  0.00943222,  0.01206367,  0.02617532,  0.01393069],\n",
            "        [-0.02144587, -0.04008175, -0.04935785, -0.01127489, -0.03669896,\n",
            "         -0.02202012, -0.01400980, -0.01791832, -0.03887854, -0.02069143],\n",
            "        [-0.03384819, -0.06326136, -0.07790190, -0.01779524, -0.05792227,\n",
            "         -0.03475453, -0.02211177, -0.02828063, -0.06136231, -0.03265745],\n",
            "        [-0.03160801, -0.05907453, -0.07274612, -0.01661750, -0.05408880,\n",
            "         -0.03245438, -0.02064835, -0.02640894, -0.05730117, -0.03049608],\n",
            "        [-0.03216061, -0.06010732, -0.07401792, -0.01690802, -0.05503443,\n",
            "         -0.03302177, -0.02100934, -0.02687064, -0.05830295, -0.03102924],\n",
            "        [-0.00069164, -0.00129267, -0.00159183, -0.00036362, -0.00118357,\n",
            "         -0.00071016, -0.00045183, -0.00057788, -0.00125386, -0.00066731],\n",
            "        [-0.03386662, -0.06329581, -0.07794432, -0.01780493, -0.05795382,\n",
            "         -0.03477346, -0.02212382, -0.02829603, -0.06139573, -0.03267523]],\n",
            "       dtype=torch.float64)\n"
          ]
        }
      ]
    },
    {
      "cell_type": "code",
      "source": [
        "nd_tensor = ndl.Tensor(a)\n",
        "nd_inv = ndl.inv(nd_tensor)\n",
        "nd_inv.sum().backward()\n",
        "print(nd_tensor.grad)"
      ],
      "metadata": {
        "colab": {
          "base_uri": "https://localhost:8080/"
        },
        "id": "91S9xYDoHwc3",
        "outputId": "3f2e31ca-d79c-47fa-f9b4-f703f26bcaf9"
      },
      "execution_count": null,
      "outputs": [
        {
          "output_type": "stream",
          "name": "stdout",
          "text": [
            "[[-0.03958471 -0.07398275 -0.09110451 -0.02081114 -0.06773877 -0.04064467\n",
            "  -0.02585924 -0.03307357 -0.07176187 -0.03819219]\n",
            " [-0.03970795 -0.0742131  -0.09138817 -0.02087597 -0.06794967 -0.04077118\n",
            "  -0.02593973 -0.03317651 -0.07198524 -0.03831108]\n",
            " [-0.01288293 -0.02407785 -0.02965017 -0.00677304 -0.02204572 -0.01322789\n",
            "  -0.00841594 -0.01076386 -0.02335505 -0.01242973]\n",
            " [ 0.01443863  0.0269854   0.03323061  0.00759095  0.02470788  0.01482523\n",
            "   0.00943221  0.01206365  0.02617531  0.01393069]\n",
            " [-0.02144587 -0.04008176 -0.04935788 -0.01127496 -0.03669891 -0.02202009\n",
            "  -0.01400978 -0.01791829 -0.03887854 -0.02069142]\n",
            " [-0.03384819 -0.06326136 -0.0779019  -0.01779526 -0.05792224 -0.03475455\n",
            "  -0.02211178 -0.02828062 -0.06136232 -0.03265747]\n",
            " [-0.03160802 -0.05907454 -0.07274611 -0.01661753 -0.05408877 -0.03245437\n",
            "  -0.02064835 -0.02640892 -0.05730117 -0.0304961 ]\n",
            " [-0.03216061 -0.06010732 -0.0740179  -0.01690802 -0.05503439 -0.03302179\n",
            "  -0.02100935 -0.02687064 -0.05830296 -0.03102926]\n",
            " [-0.00069163 -0.00129266 -0.00159181 -0.00036359 -0.00118357 -0.00071017\n",
            "  -0.00045184 -0.00057789 -0.00125385 -0.00066731]\n",
            " [-0.03386661 -0.06329578 -0.07794426 -0.01780487 -0.05795379 -0.0347735\n",
            "  -0.02212385 -0.02829607 -0.06139574 -0.03267527]]\n"
          ]
        }
      ]
    },
    {
      "cell_type": "code",
      "source": [],
      "metadata": {
        "id": "ZLLsEPKaHumG"
      },
      "execution_count": null,
      "outputs": []
    },
    {
      "cell_type": "markdown",
      "source": [
        "## Tries"
      ],
      "metadata": {
        "id": "D03X-8UX6jqX"
      }
    },
    {
      "cell_type": "code",
      "source": [
        "def concatenate(its: tuple, axis):\n",
        "    # compute out shape\n",
        "    it_shape = its[0].shape\n",
        "    out_shape = list(it_shape)\n",
        "    out_shape[axis] = 0\n",
        "\n",
        "    for tensor in its:\n",
        "        # check shape\n",
        "        for i in range(len(tensor.shape)):\n",
        "            if i == axis:\n",
        "                out_shape[axis] += tensor.shape[i]\n",
        "            else:\n",
        "                assert tensor.shape[i] == it_shape[i], \\\n",
        "                f\"shape on axis {i} must be eq, except shape on axis {axis}!\"\n",
        "\n",
        "    # create a empty array and set value\n",
        "    ret_arr = empty(out_shape)\n",
        "    raw_idxs = []\n",
        "    for i in range(len(out_shape) - 1):\n",
        "        # build indexes\n",
        "        raw_idxs.append(slice(0, out_shape[i], 1))\n",
        "\n",
        "    start_idx = 0\n",
        "    for tensor in its:\n",
        "        idxs = raw_idxs.copy()\n",
        "        idxs.insert(axis, slice(start_idx, start_idx + tensor.shape[axis], 1))\n",
        "        ret_arr[tuple(idxs)] = tensor\n",
        "        start_idx += tensor.shape[axis]\n",
        "    \n",
        "    # return\n",
        "    return ret_arr\n",
        "\n",
        "\n",
        "def _upper_trangle(a):\n",
        "    x = array(a.numpy())\n",
        "    for i in range(x.shape[1]):\n",
        "        scale = x[i, i]\n",
        "        for j in range(i+1, x.shape[0]):\n",
        "            x[j, :] = x[j, :] - (x[j, i] / scale).broadcast_to(x[i, :].shape) * x[i, :]\n",
        "\n",
        "    return x\n",
        "\n",
        "\n",
        "def det(x):\n",
        "    x = _upper_trangle(x)\n",
        "    prod = 1\n",
        "    for i in range(x.shape[0]):\n",
        "        prod *= x[i, i]\n",
        "    return prod\n",
        "\n",
        "\n",
        "def _adj(x):\n",
        "    adj_x = full(x.shape, 0.0)\n",
        "\n",
        "    for i in range(x.shape[0]):\n",
        "        for j in range(x.shape[1]):\n",
        "            if i == 0 and j == 0:\n",
        "                sub_block = [i+1:, j+1:]\n",
        "\n",
        "            sub_block = x[:i, :j]\n",
        "            if j + 1 < adj_x.shape[1]:\n",
        "                sub_block = np.concatenate([sub_block, x[:i, j + 1:]], axis=1)\n",
        "                if i + 1 < adj_x.shape[0]:\n",
        "                    sub_block_temp = np.concatenate([x[i + 1:, :j], x[i + 1:, j + 1:]], axis=1)\n",
        "                    sub_block = np.concatenate([sub_block, sub_block_temp], axis=0)\n",
        "            else:\n",
        "                if i + 1 < len(adj_x):\n",
        "                    sub_block = np.concatenate([sub_block, x[i + 1:, :j]], axis=0)\n",
        "\n",
        "            adj_x[j, i] = (-1) ** (i + 1 + j + 1) * det(sub_block)\n",
        "\n",
        "    return adj_x\n",
        "\n",
        "\n",
        "def inv(x):\n",
        "    adj_x = _adj(x)\n",
        "    return adj_x / det(x).broadcast_to(adj_x.shape)"
      ],
      "metadata": {
        "id": "nQUECoiUaEnC"
      },
      "execution_count": null,
      "outputs": []
    },
    {
      "cell_type": "code",
      "source": [
        "np.linalg.inv(x)"
      ],
      "metadata": {
        "id": "HCyvmFqRrgJx"
      },
      "execution_count": null,
      "outputs": []
    },
    {
      "cell_type": "markdown",
      "source": [
        "**Do not run the following code!**"
      ],
      "metadata": {
        "id": "AtLpNwyw8d3l"
      }
    },
    {
      "cell_type": "markdown",
      "source": [
        "## eig tries"
      ],
      "metadata": {
        "id": "k78TNSuxOpEv"
      }
    },
    {
      "cell_type": "code",
      "source": [
        "# example array\n",
        "x = np.array([\n",
        "    [3., 2., 3.],\n",
        "    [2., 3., 4.],\n",
        "    [6., 7., 8.]\n",
        "])"
      ],
      "metadata": {
        "id": "yVeTaIsPOy1Q"
      },
      "execution_count": null,
      "outputs": []
    },
    {
      "cell_type": "code",
      "source": [
        "out = np.linalg.eig(x)\n",
        "print(out[0])\n",
        "print(out[1])"
      ],
      "metadata": {
        "id": "URH38qB9O0YA"
      },
      "execution_count": null,
      "outputs": []
    },
    {
      "cell_type": "code",
      "source": [
        "class linalg:\n",
        "    @staticmethod\n",
        "    def eig(x):\n",
        "        aug = np.concatenate([np.eye(x.shape[0]), x], axis=1)\n",
        "        row, col = x.shape\n",
        "\n",
        "        for i in range(row):\n",
        "            aug[i, :] = aug[i, :] / aug[i, i]\n",
        "            for j in range(i + 1, row):\n",
        "                aug[j, :] = aug[j, :] - aug[j, i] / aug[i, i] * aug[i, :]\n",
        "\n",
        "        for i in range(row - 1, 0, -1):\n",
        "            for j in range(i - 1, -1, -1):\n",
        "                aug[j, :] -= aug[j, i] * aug[i, :]\n",
        "\n",
        "        return aug[:, col:]\n"
      ],
      "metadata": {
        "id": "URvly6iTPCJo"
      },
      "execution_count": null,
      "outputs": []
    },
    {
      "cell_type": "code",
      "source": [
        "import torch"
      ],
      "metadata": {
        "id": "tS4qE5VTaI3S"
      },
      "execution_count": null,
      "outputs": []
    },
    {
      "cell_type": "code",
      "source": [
        "# example array\n",
        "x = np.array([\n",
        "    [3., 2., 3.],\n",
        "    [2., 3., 4.],\n",
        "    [6., 7., 8.]\n",
        "])"
      ],
      "metadata": {
        "id": "AJcVldVRaLU0"
      },
      "execution_count": null,
      "outputs": []
    },
    {
      "cell_type": "code",
      "source": [
        "th_tensor = torch.tensor(x, requires_grad=True)\n",
        "out = torch.linalg.eig(th_tensor)"
      ],
      "metadata": {
        "id": "O7cJOQRJaOtJ"
      },
      "execution_count": null,
      "outputs": []
    },
    {
      "cell_type": "code",
      "source": [
        "print(th_tensor.grad)"
      ],
      "metadata": {
        "id": "isMGOkFrdauY"
      },
      "execution_count": null,
      "outputs": []
    },
    {
      "cell_type": "code",
      "source": [
        "out"
      ],
      "metadata": {
        "id": "96Q3rxJFaXEu"
      },
      "execution_count": null,
      "outputs": []
    },
    {
      "cell_type": "code",
      "source": [
        "out[0].sum().backward()"
      ],
      "metadata": {
        "id": "3yDN4du7acs_"
      },
      "execution_count": null,
      "outputs": []
    },
    {
      "cell_type": "code",
      "source": [
        "th_tensor.grad"
      ],
      "metadata": {
        "id": "jhQ1_AAvalpE"
      },
      "execution_count": null,
      "outputs": []
    },
    {
      "cell_type": "code",
      "source": [],
      "metadata": {
        "id": "giVNYVGoanBV"
      },
      "execution_count": null,
      "outputs": []
    },
    {
      "cell_type": "markdown",
      "source": [
        "****"
      ],
      "metadata": {
        "id": "elwUD6lkwf4_"
      }
    },
    {
      "cell_type": "code",
      "source": [
        "import numpy as np"
      ],
      "metadata": {
        "id": "NQNAr4pxwhs7"
      },
      "execution_count": null,
      "outputs": []
    },
    {
      "cell_type": "code",
      "source": [
        "a = np.array([\n",
        "    [2, 2, 3],\n",
        "    [0, 5, 6],\n",
        "    [0, 0, 0]\n",
        "])"
      ],
      "metadata": {
        "id": "C_68mLuFwi7r"
      },
      "execution_count": null,
      "outputs": []
    },
    {
      "cell_type": "code",
      "source": [
        "def trui_solve(a, v_idx):\n",
        "    v = np.array((a.shape[0], 1))\n",
        "    row, col = a.shape\n",
        "    assert row == col\n",
        "    n = col\n",
        "\n",
        "    for i in range(n-1, -1, -1):\n",
        "        if i == v_idx:\n",
        "            v[i] = 1\n",
        "        else:\n",
        "            a[i, :] /= a[i, i]\n",
        "        \n",
        "        for j in range(i-1, -1, -1):\n",
        "            a[j, :] -= a[j, i] * a[i, :]\n",
        "\n",
        "    # collect value\n",
        "    for i in range(0, n):\n",
        "        if i != v_idx:\n",
        "            v[i] = -a[n-1, i]\n",
        "    return v"
      ],
      "metadata": {
        "id": "n4-2mcXEwozn"
      },
      "execution_count": null,
      "outputs": []
    },
    {
      "cell_type": "code",
      "source": [],
      "metadata": {
        "id": "jSkt5VxwyGcF"
      },
      "execution_count": null,
      "outputs": []
    }
  ]
}